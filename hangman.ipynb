{
 "cells": [
  {
   "cell_type": "code",
   "execution_count": null,
   "metadata": {},
   "outputs": [],
   "source": [
    "import random\n",
    "\n",
    "def choose_word():\n",
    "    words = ['python', 'hangman', 'programming', 'computer', 'science', 'algorithm', 'developer']\n",
    "    return random.choice(words)\n",
    "\n",
    "def display_word(word, guessed_letters):\n",
    "    displayed_word = ''\n",
    "    for letter in word:\n",
    "        if letter in guessed_letters:\n",
    "            displayed_word += letter\n",
    "        else:\n",
    "            displayed_word += '_'\n",
    "    return displayed_word\n",
    "\n",
    "def hangman():\n",
    "    word = choose_word()\n",
    "    guessed_letters = []\n",
    "    attempts = 6\n",
    "    \n",
    "    print(\"Welcome to Hangman!\")\n",
    "    \n",
    "    while True:\n",
    "        print(\"\\nAttempts left:\", attempts)\n",
    "        displayed = display_word(word, guessed_letters)\n",
    "        print(displayed)\n",
    "        \n",
    "        if '_' not in displayed:\n",
    "            print(\"\\nCongratulations! You guessed the word:\", word)\n",
    "            break\n",
    "        \n",
    "        guess = input(\"Guess a letter: \").lower()\n",
    "        \n",
    "        if guess in guessed_letters:\n",
    "            print(\"You've already guessed that letter!\")\n",
    "            continue\n",
    "        \n",
    "        guessed_letters.append(guess)\n",
    "        \n",
    "        if guess not in word:\n",
    "            print(\"Incorrect guess!\")\n",
    "            attempts -= 1\n",
    "            if attempts == 0:\n",
    "                print(\"Out of attempts! The word was:\", word)\n",
    "                break\n",
    "        else:\n",
    "            print(\"Correct guess!\")\n",
    "        \n",
    "hangman()\n"
   ]
  }
 ],
 "metadata": {
  "kernelspec": {
   "display_name": "Python 3",
   "language": "python",
   "name": "python3"
  },
  "language_info": {
   "codemirror_mode": {
    "name": "ipython",
    "version": 3
   },
   "file_extension": ".py",
   "mimetype": "text/x-python",
   "name": "python",
   "nbconvert_exporter": "python",
   "pygments_lexer": "ipython3",
   "version": "3.11.4"
  },
  "orig_nbformat": 4
 },
 "nbformat": 4,
 "nbformat_minor": 2
}
